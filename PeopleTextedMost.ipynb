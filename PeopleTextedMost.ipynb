{
 "cells": [
  {
   "cell_type": "code",
   "execution_count": 73,
   "metadata": {},
   "outputs": [],
   "source": [
    "import pandas as pd\n",
    "import xml.etree.ElementTree as ET\n",
    "import numpy as np\n",
    "import matplotlib.pyplot as plt\n",
    "import matplotlib.cbook as cbook\n",
    "import matplotlib.dates as mdates\n",
    "import matplotlib.patches as mpatches\n",
    "import squarify"
   ]
  },
  {
   "cell_type": "code",
   "execution_count": 74,
   "metadata": {},
   "outputs": [],
   "source": [
    "dfFB = pd.read_csv('fb.csv',index_col=False)\n",
    "dfSMS = pd.read_csv('sms.csv',index_col=False)\n",
    "dfCombined = dfFB.append(dfSMS)"
   ]
  },
  {
   "cell_type": "code",
   "execution_count": 75,
   "metadata": {},
   "outputs": [],
   "source": [
    "totalMessages = {}\n",
    "people = []\n",
    "messages = []\n",
    "\n",
    "for person in dfCombined['person'].unique():\n",
    "    dfTemp = dfCombined.loc[dfCombined['person'] == person]\n",
    "    totalMessages[person] = dfTemp.shape[0]\n",
    "    people.append(person)\n",
    "    messages.append(dfTemp.shape[0])\n",
    "    \n",
    "messages, people = zip(*sorted(zip(messages, people)))"
   ]
  },
  {
   "cell_type": "code",
   "execution_count": null,
   "metadata": {},
   "outputs": [],
   "source": [
    "squarify.plot(sizes=messages[-10:], \n",
    "              #label=people[-10:], \n",
    "              alpha=.7 )\n",
    "plt.axis('off')\n",
    "plt.show()"
   ]
  },
  {
   "cell_type": "markdown",
   "metadata": {},
   "source": [
    "## tree map of certain time"
   ]
  },
  {
   "cell_type": "code",
   "execution_count": null,
   "metadata": {},
   "outputs": [],
   "source": [
    "totalCollegeMessages = {}\n",
    "collegePeople = []\n",
    "collegeMessages = []\n",
    "\n",
    "dfCollege = dfCombined.loc[dfCombined['timestamp_ms'] > 1408518000000]\n",
    "#dfCollege = dfCollege.loc[dfCollege['category'].str.contains('sms')].copy()\n",
    "\n",
    "for person in dfCollege['person'].unique():\n",
    "    dfTemp = dfCollege.loc[dfCollege['person'] == person].copy()\n",
    "    totalCollegeMessages[person] = dfTemp.shape[0]\n",
    "    collegePeople.append(person)\n",
    "    collegeMessages.append(dfTemp.shape[0])\n",
    "    \n",
    "collegeMessages, collegePeople = zip(*sorted(zip(collegeMessages, collegePeople)))\n",
    "\n",
    "squarify.plot(sizes=collegeMessages[-10:], \n",
    "              #label=collegePeople[-10:], \n",
    "              alpha=.7 )\n",
    "plt.axis('off')\n",
    "plt.show()"
   ]
  },
  {
   "cell_type": "code",
   "execution_count": null,
   "metadata": {},
   "outputs": [],
   "source": [
    "fig, ax = plt.subplots()\n",
    "bars = ax.bar(list(reversed(collegePeople[-10:])),\n",
    "              list(reversed(collegeMessages[-10:])))\n",
    "fig.autofmt_xdate()\n",
    "ax.get_yaxis().set_visible(False)\n",
    "ax.set_facecolor('lightgrey')\n",
    "for i in ['top','right','left','bottom']:\n",
    "    ax.spines[i].set_visible(False)\n",
    "for bar in bars:\n",
    "    yval = bar.get_height()\n",
    "    plt.text(bar.get_x()+.045, yval - 400, yval,color='white',fontsize=9)\n",
    "\n",
    "#plt.show()\n"
   ]
  },
  {
   "cell_type": "code",
   "execution_count": null,
   "metadata": {},
   "outputs": [],
   "source": []
  }
 ],
 "metadata": {
  "kernelspec": {
   "display_name": "Python 3",
   "language": "python",
   "name": "python3"
  },
  "language_info": {
   "codemirror_mode": {
    "name": "ipython",
    "version": 3
   },
   "file_extension": ".py",
   "mimetype": "text/x-python",
   "name": "python",
   "nbconvert_exporter": "python",
   "pygments_lexer": "ipython3",
   "version": "3.7.2"
  },
  "latex_envs": {
   "LaTeX_envs_menu_present": true,
   "autocomplete": true,
   "bibliofile": "biblio.bib",
   "cite_by": "apalike",
   "current_citInitial": 1,
   "eqLabelWithNumbers": true,
   "eqNumInitial": 1,
   "hotkeys": {
    "equation": "Ctrl-E",
    "itemize": "Ctrl-I"
   },
   "labels_anchors": false,
   "latex_user_defs": false,
   "report_style_numbering": false,
   "user_envs_cfg": false
  }
 },
 "nbformat": 4,
 "nbformat_minor": 2
}
