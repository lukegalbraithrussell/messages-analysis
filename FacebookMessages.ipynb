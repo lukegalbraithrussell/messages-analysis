{
 "cells": [
  {
   "cell_type": "markdown",
   "metadata": {
    "heading_collapsed": true
   },
   "source": [
    "## packages"
   ]
  },
  {
   "cell_type": "code",
   "execution_count": 40,
   "metadata": {
    "hidden": true
   },
   "outputs": [],
   "source": [
    "import pandas as pd\n",
    "import numpy as np\n",
    "import matplotlib.pyplot as plt\n",
    "import matplotlib.cbook as cbook\n",
    "import matplotlib.dates as mdates\n",
    "import matplotlib.patches as mpatches\n",
    "\n",
    "import json\n",
    "from pandas.io.json import json_normalize\n",
    "from datetime import datetime\n",
    "import os\n"
   ]
  },
  {
   "cell_type": "markdown",
   "metadata": {},
   "source": [
    "## reading and organizing data"
   ]
  },
  {
   "cell_type": "code",
   "execution_count": 72,
   "metadata": {},
   "outputs": [],
   "source": [
    "#rootDir = '../messages/inbox' # download all facebook message data into the same folder as code\n",
    "rootDir ='/home/luke/Downloads/facebook/messages/inbox'\n",
    "yourName = 'Luke Russell'\n",
    "\n",
    "dataDict = {}\n",
    "dfPeople = pd.DataFrame(columns=['content','sender_name','share.link','timestamp_ms','type','person','direction','date','day'])\n",
    "\n",
    "for dirName, subdirList, fileList in os.walk(rootDir):\n",
    "\n",
    "    try:\n",
    "        with open(\"{}/message_1.json\".format(dirName)) as file:\n",
    "            jsonLoad = json.load(file)\n",
    "        dfPerson = json_normalize(jsonLoad['messages'])\n",
    "        members = dfPerson['sender_name'].unique()\n",
    "        for i in range(0,len(members)):\n",
    "            if members[i] != yourName:\n",
    "                person = members[i]\n",
    "        firstName, *middleName, lastName = person.split()\n",
    "\n",
    "        dfPerson['person'] = firstName + ' ' + lastName\n",
    "\n",
    "        dfPerson['direction'] = np.nan\n",
    "        dfPerson.loc[dfPerson['sender_name'].str.contains(yourName), 'direction'] = 'sent'\n",
    "        dfPerson.loc[~dfPerson['sender_name'].str.contains(yourName), 'direction'] = 'received'\n",
    "\n",
    "\n",
    "        dfPerson['date'] = dfPerson['timestamp_ms']/1000\n",
    "        dfPerson['date'] = dfPerson['date'].astype(int)\n",
    "        dfPerson['date'] = pd.to_datetime(dfPerson['date'], unit='s')\n",
    "        dfPerson['day'] = dfPerson['date'].dt.to_period('d')\n",
    "        \n",
    "        dataDict[dirName[dirName.index('x')+2:]] = dfPerson\n",
    "        \n",
    "        dfPeople = dfPeople.append(dfPerson,sort=False)\n",
    "    except:\n",
    "        pass\n",
    "\n",
    "dfPeople.loc[dfPeople['person'].str.contains('Pratt'), 'person'] = 'Zoe Pratt'\n",
    "\n",
    "dfPeople['date'] = dfPeople['timestamp_ms']/1000\n",
    "dfPeople['date'] = dfPeople['date'].astype(int)\n",
    "dfPeople['date'] = pd.to_datetime(dfPeople['date'], unit='s')\n",
    "dfPeople['day'] = dfPeople['date'].dt.to_period('d')  "
   ]
  },
  {
   "cell_type": "markdown",
   "metadata": {},
   "source": [
    "## export to csv"
   ]
  },
  {
   "cell_type": "code",
   "execution_count": 71,
   "metadata": {},
   "outputs": [],
   "source": [
    "dfFacebook = dfPeople[['person', 'timestamp_ms','content','date']].copy()\n",
    "dfFacebook['category'] = dfPeople['direction'] + ' ' + 'facebook'\n",
    "dfFacebook.to_csv('fb.csv')"
   ]
  },
  {
   "cell_type": "markdown",
   "metadata": {},
   "source": [
    "## plotting total messages"
   ]
  },
  {
   "cell_type": "code",
   "execution_count": 69,
   "metadata": {},
   "outputs": [
    {
     "data": {
      "image/png": "[encoded data removed]",
      "text/plain": [
       "<Figure size 432x288 with 1 Axes>"
      ]
     },
     "metadata": {
      "needs_background": "light"
     },
     "output_type": "display_data"
    }
   ],
   "source": [
    "sentCombined = list(dfPeople[dfPeople['direction'] == 'sent']['date'])\n",
    "receivedCombined = list(dfPeople[dfPeople['direction'] == 'received']['date'])\n",
    "\n",
    "fig, ax = plt.subplots()\n",
    "ax.hist([sentCombined, receivedCombined], label=['sent','received'], bins = 50, stacked=True, color=['#a6cee3','#1f78b4'])\n",
    "fig.autofmt_xdate()\n",
    "ax.legend()\n",
    "plt.show()"
   ]
  },
  {
   "cell_type": "markdown",
   "metadata": {},
   "source": [
    "## plotting messages with an individual only"
   ]
  },
  {
   "cell_type": "code",
   "execution_count": 74,
   "metadata": {},
   "outputs": [
    {
     "data": {
      "image/png": "[encoded data removed]",
      "text/plain": [
       "<Figure size 432x288 with 1 Axes>"
      ]
     },
     "metadata": {
      "needs_background": "light"
     },
     "output_type": "display_data"
    }
   ],
   "source": [
    "person = 'Adam Wright'\n",
    "\n",
    "dfPerson = dfPeople.loc[dfPeople['person'] == person].copy()\n",
    "sent = list(dfPerson[dfPerson['direction'] == 'sent']['date'])\n",
    "received = list(dfPerson[dfPerson['direction'] == 'received']['date'])\n",
    "\n",
    "fig, ax = plt.subplots()\n",
    "ax.hist([sent, received], label=['sent','received'], bins = 50, stacked=True, color=['#a6cee3','#1f78b4'])\n",
    "fig.autofmt_xdate()\n",
    "ax.legend()\n",
    "plt.show()"
   ]
  },
  {
   "cell_type": "markdown",
   "metadata": {},
   "source": [
    "## tree map"
   ]
  },
  {
   "cell_type": "code",
   "execution_count": 47,
   "metadata": {},
   "outputs": [],
   "source": [
    "#using dict\n",
    "# totalmessages = {}\n",
    "# people = []\n",
    "# messages = []\n",
    "# for person in dataDict:\n",
    "#     totalmessages[person] = len(dataDict[person])\n",
    "#     people.append(person)\n",
    "#     messages.append(len(dataDict[person]))\n",
    "    \n",
    "# messages, people = zip(*sorted(zip(messages, people)))"
   ]
  },
  {
   "cell_type": "code",
   "execution_count": 60,
   "metadata": {},
   "outputs": [],
   "source": [
    "#using df\n",
    "totalMessages = {}\n",
    "people = []\n",
    "messages = []\n",
    "\n",
    "for person in dfFacebook['person'].unique():\n",
    "    dfTemp = dfFacebook.loc[dfFacebook['person'] == person]\n",
    "    totalMessages[person] = dfTemp.shape[0]\n",
    "    people.append(person)\n",
    "    messages.append(dfTemp.shape[0])\n",
    "    \n",
    "messages, people = zip(*sorted(zip(messages, people)))"
   ]
  },
  {
   "cell_type": "code",
   "execution_count": 64,
   "metadata": {},
   "outputs": [
    {
     "data": {
      "image/png": "[encoded data removed]",
      "text/plain": [
       "<Figure size 432x288 with 1 Axes>"
      ]
     },
     "metadata": {
      "needs_background": "light"
     },
     "output_type": "display_data"
    }
   ],
   "source": [
    "import squarify\n",
    "squarify.plot(sizes=messages[-10:], \n",
    "              #label=people[-10:], \n",
    "              alpha=.7 )\n",
    "plt.axis('off')\n",
    "plt.show()"
   ]
  }
 ],
 "metadata": {
  "anaconda-cloud": {},
  "kernelspec": {
   "display_name": "Python 3",
   "language": "python",
   "name": "python3"
  },
  "language_info": {
   "codemirror_mode": {
    "name": "ipython",
    "version": 3
   },
   "file_extension": ".py",
   "mimetype": "text/x-python",
   "name": "python",
   "nbconvert_exporter": "python",
   "pygments_lexer": "ipython3",
   "version": "3.7.2"
  },
  "latex_envs": {
   "LaTeX_envs_menu_present": true,
   "autocomplete": true,
   "bibliofile": "biblio.bib",
   "cite_by": "apalike",
   "current_citInitial": 1,
   "eqLabelWithNumbers": true,
   "eqNumInitial": 1,
   "hotkeys": {
    "equation": "Ctrl-E",
    "itemize": "Ctrl-I"
   },
   "labels_anchors": false,
   "latex_user_defs": false,
   "report_style_numbering": false,
   "user_envs_cfg": false
  }
 },
 "nbformat": 4,
 "nbformat_minor": 2
}
