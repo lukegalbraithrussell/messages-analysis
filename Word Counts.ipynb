{
 "cells": [
  {
   "cell_type": "code",
   "execution_count": 1,
   "metadata": {},
   "outputs": [],
   "source": [
    "import pandas as pd\n",
    "from collections import Counter\n",
    "import numpy as np"
   ]
  },
  {
   "cell_type": "code",
   "execution_count": 2,
   "metadata": {},
   "outputs": [],
   "source": [
    "dfFB = pd.read_csv('fb.csv',index_col=False)\n",
    "dfFB = dfFB[['person', 'timestamp_ms','content','category','date']]\n",
    "\n",
    "dfSMS = pd.read_csv('sms.csv',index_col=False)\n",
    "dfSMS = dfSMS[['person', 'timestamp_ms','content','category','date']]\n",
    "\n",
    "dfMessages = dfSMS.append(dfFB, ignore_index=True, sort=False)\n",
    "\n",
    "dfMessages['timestamp_ms'] = dfMessages['timestamp_ms'].astype(int)\n",
    "dfMessages['date'] = dfMessages['timestamp_ms']/1000\n",
    "dfMessages['date'] = dfMessages['date'].astype(int)\n",
    "dfMessages['date'] = pd.to_datetime(dfMessages['date'], unit='s') "
   ]
  },
  {
   "cell_type": "code",
   "execution_count": 5,
   "metadata": {},
   "outputs": [],
   "source": [
    "from collections import Counter\n",
    "\n",
    "text = dfMessages['content'].str.cat(sep=' ')\n",
    "text = text.lower()\n",
    "#Counter(text.split()).most_common()"
   ]
  },
  {
   "cell_type": "code",
   "execution_count": 6,
   "metadata": {},
   "outputs": [],
   "source": [
    "### future\n",
    "# remove punctuation\n",
    "# remove stop words"
   ]
  }
 ],
 "metadata": {
  "kernelspec": {
   "display_name": "Python 3",
   "language": "python",
   "name": "python3"
  },
  "language_info": {
   "codemirror_mode": {
    "name": "ipython",
    "version": 3
   },
   "file_extension": ".py",
   "mimetype": "text/x-python",
   "name": "python",
   "nbconvert_exporter": "python",
   "pygments_lexer": "ipython3",
   "version": "3.7.2"
  },
  "latex_envs": {
   "LaTeX_envs_menu_present": true,
   "autocomplete": true,
   "bibliofile": "biblio.bib",
   "cite_by": "apalike",
   "current_citInitial": 1,
   "eqLabelWithNumbers": true,
   "eqNumInitial": 1,
   "hotkeys": {
    "equation": "Ctrl-E",
    "itemize": "Ctrl-I"
   },
   "labels_anchors": false,
   "latex_user_defs": false,
   "report_style_numbering": false,
   "user_envs_cfg": false
  }
 },
 "nbformat": 4,
 "nbformat_minor": 2
}
