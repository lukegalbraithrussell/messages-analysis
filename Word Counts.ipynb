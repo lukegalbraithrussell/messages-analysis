{
 "cells": [
  {
   "cell_type": "code",
   "execution_count": 85,
   "metadata": {},
   "outputs": [],
   "source": [
    "import pandas as pd\n",
    "from collections import Counter\n",
    "import numpy as np\n",
    "import nltk\n",
    "from nltk.collocations import *\n",
    "from nltk import ngrams\n"
   ]
  },
  {
   "cell_type": "code",
   "execution_count": 9,
   "metadata": {},
   "outputs": [],
   "source": [
    "dfFB = pd.read_csv('fb.csv',index_col=False)\n",
    "dfFB = dfFB[['person', 'timestamp_ms','content','category','date']]\n",
    "\n",
    "dfSMS = pd.read_csv('sms.csv',index_col=False)\n",
    "dfSMS = dfSMS[['person', 'timestamp_ms','content','category','date']]\n",
    "\n",
    "dfMessages = dfSMS.append(dfFB, ignore_index=True, sort=False)\n",
    "\n",
    "dfMessages['timestamp_ms'] = dfMessages['timestamp_ms'].astype(int)\n",
    "dfMessages['date'] = dfMessages['timestamp_ms']/1000\n",
    "dfMessages['date'] = dfMessages['date'].astype(int)\n",
    "dfMessages['date'] = pd.to_datetime(dfMessages['date'], unit='s') "
   ]
  },
  {
   "cell_type": "code",
   "execution_count": 132,
   "metadata": {},
   "outputs": [],
   "source": [
    "person = '' #insert friend here\n",
    "\n",
    "# Combined Messages of Convo with person\n",
    "dfPerson = dfMessages.loc[dfMessages['person'] == person].copy()\n",
    "\n",
    "# Only Their Messages\n",
    "dfInd = dfPerson.loc[dfMessages['category'].str.contains('received')].copy()\n",
    "\n",
    "text = dfInd['content'].str.cat(sep=' ')\n",
    "text = text.lower()\n",
    "text = text.replace(\"'\",\"\")\n",
    "text = text.replace(\"\\n\",\" \")\n",
    "textcopy = text\n",
    "mostCommon = Counter(text.split()).most_common()\n",
    "words = text.split()"
   ]
  },
  {
   "cell_type": "code",
   "execution_count": null,
   "metadata": {},
   "outputs": [],
   "source": [
    "df = dfInd ## change which set to look at here\n",
    "\n",
    "text = df['content'].str.cat(sep=' ')\n",
    "text = text.lower()\n",
    "text = text.replace(\"'\",\"\")\n",
    "text = text.replace(\"\\n\",\" \")\n",
    "textcopy = text\n",
    "mostCommon = Counter(text.split()).most_common()\n",
    "words = text.split()"
   ]
  },
  {
   "cell_type": "code",
   "execution_count": 121,
   "metadata": {},
   "outputs": [],
   "source": [
    "stopWords = [ 'like','just','yeah','not','can','also','okay','oh','still', \"a\", \"about\", \"above\", \"after\", \"again\", \"against\", \"all\", \"am\", \"an\", \"and\", \"any\", \"are\", \"as\", \"at\", \"be\", \"because\", \"been\", \"before\", \"being\", \"below\", \"between\", \"both\", \"but\", \"by\", \"could\", \"did\", \"do\", \"does\", \"doing\", \"down\", \"during\", \"each\", \"few\", \"for\", \"from\", \"further\", \"had\", \"has\", \"have\", \"having\", \"he\", \"he'd\", \"he'll\", \"he's\", \"her\", \"here\", \"here's\", \"hers\", \"herself\", \"him\", \"himself\", \"his\", \"how\", \"how's\", \"i\", \"i'd\", \"i'll\", \"i'm\", \"i've\", \"if\", \"in\", \"into\", \"is\", \"it\", \"it's\", \"its\", \"itself\", \"let's\", \"me\", \"more\", \"most\", \"my\", \"myself\", \"nor\", \"of\", \"on\", \"once\", \"only\", \"or\", \"other\", \"ought\", \"our\", \"ours\", \"ourselves\", \"out\", \"over\", \"own\", \"same\", \"she\", \"she'd\", \"she'll\", \"she's\", \"should\", \"so\", \"some\", \"such\", \"than\", \"that\", \"that's\", \"the\", \"their\", \"theirs\", \"them\", \"themselves\", \"then\", \"there\", \"there's\", \"these\", \"they\", \"they'd\", \"they'll\", \"they're\", \"they've\", \"this\", \"those\", \"through\", \"to\", \"too\", \"under\", \"until\", \"up\", \"very\", \"was\", \"we\", \"we'd\", \"we'll\", \"we're\", \"we've\", \"were\", \"what\", \"what's\", \"when\", \"when's\", \"where\", \"where's\", \"which\", \"while\", \"who\", \"who's\", \"whom\", \"why\", \"why's\", \"with\", \"would\", \"you\", \"you'd\", \"you'll\", \"you're\", \"you've\", \"your\", \"yours\", \"yourself\", \"yourselves\" ]"
   ]
  },
  {
   "cell_type": "code",
   "execution_count": 133,
   "metadata": {},
   "outputs": [
    {
     "data": {
      "text/plain": [
       "[('im', 194), ('dont', 119), ('want', 91), ('know', 88), ('thats', 79)]"
      ]
     },
     "execution_count": 133,
     "metadata": {},
     "output_type": "execute_result"
    }
   ],
   "source": [
    "mostCommonNoFiller = [i for i in mostCommon if i[0] not in stopWords]\n",
    "mostCommonNoFiller[:5]"
   ]
  },
  {
   "cell_type": "code",
   "execution_count": 134,
   "metadata": {},
   "outputs": [
    {
     "data": {
      "text/plain": [
       "[('let', 'me', 'know'),\n",
       " ('i', 'dont', 'think'),\n",
       " ('i', 'dont', 'know'),\n",
       " ('dont', 'want', 'to'),\n",
       " ('going', 'to', 'be'),\n",
       " ('if', 'you', 'want'),\n",
       " ('you', 'want', 'to'),\n",
       " ('i', 'have', 'to')]"
      ]
     },
     "execution_count": 134,
     "metadata": {},
     "output_type": "execute_result"
    }
   ],
   "source": [
    "bigram_measures = nltk.collocations.BigramAssocMeasures()\n",
    "trigram_measures = nltk.collocations.TrigramAssocMeasures()\n",
    "\n",
    "finder = TrigramCollocationFinder.from_words(words)\n",
    "\n",
    "# only ngrams that appear 10+ times\n",
    "finder.apply_freq_filter(10) \n",
    "\n",
    "# return the 100 n-grams with the highest PMI\n",
    "finder.nbest(trigram_measures.pmi, 100)  "
   ]
  }
 ],
 "metadata": {
  "kernelspec": {
   "display_name": "Python 3",
   "language": "python",
   "name": "python3"
  },
  "language_info": {
   "codemirror_mode": {
    "name": "ipython",
    "version": 3
   },
   "file_extension": ".py",
   "mimetype": "text/x-python",
   "name": "python",
   "nbconvert_exporter": "python",
   "pygments_lexer": "ipython3",
   "version": "3.7.2"
  },
  "latex_envs": {
   "LaTeX_envs_menu_present": true,
   "autocomplete": true,
   "bibliofile": "biblio.bib",
   "cite_by": "apalike",
   "current_citInitial": 1,
   "eqLabelWithNumbers": true,
   "eqNumInitial": 1,
   "hotkeys": {
    "equation": "Ctrl-E",
    "itemize": "Ctrl-I"
   },
   "labels_anchors": false,
   "latex_user_defs": false,
   "report_style_numbering": false,
   "user_envs_cfg": false
  }
 },
 "nbformat": 4,
 "nbformat_minor": 2
}
