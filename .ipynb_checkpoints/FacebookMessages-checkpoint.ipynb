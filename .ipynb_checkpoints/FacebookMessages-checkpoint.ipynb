{
 "cells": [
  {
   "cell_type": "code",
   "execution_count": 1,
   "metadata": {
    "collapsed": true
   },
   "outputs": [],
   "source": [
    "import pandas as pd\n",
    "import numpy as np\n",
    "import matplotlib.pyplot as plt\n",
    "import matplotlib.cbook as cbook\n",
    "import matplotlib.dates as mdates\n",
    "import matplotlib.patches as mpatches\n",
    "\n",
    "import json\n",
    "from pandas.io.json import json_normalize\n",
    "from datetime import datetime\n",
    "import os\n",
    "\n",
    "yourName = 'Luke Russell'\n",
    "theirName =''"
   ]
  },
  {
   "cell_type": "code",
   "execution_count": 2,
   "metadata": {
    "collapsed": true
   },
   "outputs": [],
   "source": [
    "rootDir = '../messages/inbox' # download all facebook message data into the same folder as code\n",
    "dataDict = {}\n",
    "for dirName, subdirList, fileList in os.walk(rootDir):\n",
    "\n",
    "    try:\n",
    "        with open(\"{}/message_1.json\".format(dirName)) as file:\n",
    "            jsonLoad = json.load(file)\n",
    "        dfPerson = json_normalize(jsonLoad['messages'])\n",
    "\n",
    "        ###if sender_names.unique == 2... so we dont deal with groups yet\n",
    "\n",
    "        members = dfPerson['sender_name'].unique()\n",
    "        for i in range(0,len(members)):\n",
    "            if members[i] != yourName:\n",
    "                person = members[i]\n",
    "        firstName, *middleName, lastName = person.split()\n",
    "\n",
    "        dfPerson['person'] = firstName + ' ' + lastName\n",
    "\n",
    "        dfPerson['direction'] = np.nan\n",
    "        dfPerson.loc[dfPerson['sender_name'].str.contains(yourName), 'direction'] = 'sent'\n",
    "        dfPerson.loc[~dfPerson['sender_name'].str.contains(yourName), 'direction'] = 'received'\n",
    "\n",
    "\n",
    "        dfPerson['date'] = dfPerson['timestamp_ms']/1000\n",
    "        dfPerson['date'] = dfPerson['date'].astype(int)\n",
    "        dfPerson['date'] = pd.to_datetime(dfPerson['date'], unit='s')\n",
    "        dfPerson['day'] = dfPerson['date'].dt.to_period('d')\n",
    "        dataDict[dirName[dirName.index('x')+2:]] = dfPerson\n",
    "\n",
    "    except:\n",
    "        pass"
   ]
  },
  {
   "cell_type": "markdown",
   "metadata": {},
   "source": [
    "## plotting for fb only"
   ]
  },
  {
   "cell_type": "code",
   "execution_count": 50,
   "metadata": {
    "collapsed": true
   },
   "outputs": [],
   "source": [
    "dfPerson['date'] = dfPerson['timestamp_ms']/1000\n",
    "dfPerson['date'] = dfPerson['date'].astype(int)\n",
    "dfPerson['date'] = pd.to_datetime(dfPerson['date'], unit='s')\n",
    "dfPerson['day'] = dfPerson['date'].dt.to_period('d')\n",
    "# future: format=\"%Y.%d.%m %I:%M:%S\","
   ]
  },
  {
   "cell_type": "code",
   "execution_count": 51,
   "metadata": {
    "collapsed": true
   },
   "outputs": [],
   "source": [
    "sent = list(dfPerson[dfPerson['direction'] == 'sent']['date'])\n",
    "received = list(dfPerson[dfPerson['direction'] == 'received']['date'])"
   ]
  },
  {
   "cell_type": "code",
   "execution_count": 52,
   "metadata": {},
   "outputs": [
    {
     "data": {
      "image/png": "[encoded data removed]",
      "text/plain": [
       "<Figure size 432x288 with 1 Axes>"
      ]
     },
     "metadata": {
      "needs_background": "light"
     },
     "output_type": "display_data"
    }
   ],
   "source": [
    "fig, ax = plt.subplots()\n",
    "\n",
    "# sentpatch = mpatches.Patch(color='#a6cee3', label='sent')\n",
    "# receivedpatch = mpatches.Patch(color='#1f78b4', label='received')\n",
    "ax.hist([sent[:1000], received[:1000]], label=['sent','received'], bins = 50, stacked=True, color=['#a6cee3','#1f78b4'])\n",
    "#sent and receive aren't perfectly equal, need a better way to specify date range\n",
    "fig.autofmt_xdate()\n",
    "ax.legend()\n",
    "plt.show()"
   ]
  }
 ],
 "metadata": {
  "anaconda-cloud": {},
  "kernelspec": {
   "display_name": "Python [default]",
   "language": "python",
   "name": "python3"
  },
  "language_info": {
   "codemirror_mode": {
    "name": "ipython",
    "version": 3
   },
   "file_extension": ".py",
   "mimetype": "text/x-python",
   "name": "python",
   "nbconvert_exporter": "python",
   "pygments_lexer": "ipython3",
   "version": "3.5.4"
  },
  "latex_envs": {
   "LaTeX_envs_menu_present": true,
   "autocomplete": true,
   "bibliofile": "biblio.bib",
   "cite_by": "apalike",
   "current_citInitial": 1,
   "eqLabelWithNumbers": true,
   "eqNumInitial": 1,
   "hotkeys": {
    "equation": "Ctrl-E",
    "itemize": "Ctrl-I"
   },
   "labels_anchors": false,
   "latex_user_defs": false,
   "report_style_numbering": false,
   "user_envs_cfg": false
  }
 },
 "nbformat": 4,
 "nbformat_minor": 2
}
