{
 "cells": [
  {
   "cell_type": "markdown",
   "metadata": {},
   "source": [
    "## packages"
   ]
  },
  {
   "cell_type": "code",
   "execution_count": 1,
   "metadata": {},
   "outputs": [],
   "source": [
    "import pandas as pd\n",
    "import xml.etree.ElementTree as ET\n",
    "import numpy as np\n",
    "import matplotlib.pyplot as plt\n",
    "import matplotlib.cbook as cbook\n",
    "import matplotlib.dates as mdates\n",
    "import matplotlib.patches as mpatches\n",
    "root = ET.parse('/home/luke/Downloads/sms.xml').getroot()"
   ]
  },
  {
   "cell_type": "markdown",
   "metadata": {},
   "source": [
    "## reading and organizing data"
   ]
  },
  {
   "cell_type": "code",
   "execution_count": 2,
   "metadata": {},
   "outputs": [],
   "source": [
    "data = []\n",
    "for child in root:\n",
    "    data.append([child.attrib['name'],child.attrib['body'],child.attrib['type'],child.attrib['time'],child.attrib['date'],child.attrib['address'],])\n",
    "df = pd.DataFrame(data, columns=['person','content','type','time','timestamp_ms','number'])\n",
    "\n",
    "df['source'] = 'sms'"
   ]
  },
  {
   "cell_type": "code",
   "execution_count": 3,
   "metadata": {},
   "outputs": [],
   "source": [
    "#cleaning phone numbers, empty contacts\n",
    "\n",
    "for i in ['-','+','(',')',' ']:\n",
    "    df['number'] = df['number'].map(lambda x: x.replace(i,''))\n",
    "df['number'] = df['number'].map(lambda x: x.lstrip('1'))\n",
    "\n",
    "# phone number instances that didnt sync with contact name???\n",
    "# uncomment, and manually fill in contacts\n",
    "\n",
    "# dfBlank = df.loc[df['name'] == '']\n",
    "# dfBlankNumbers = dfblank['number'].value_counts()\n",
    "# dfBlanks = pd.DataFrame(dftest)\n",
    "# dfBlanks.to_csv('blanknumbers.csv')\n",
    "\n",
    "# read in manually entered contacts\n",
    "dfCSV = pd.read_csv('blanknumbers.csv')\n",
    "dfCSV['name'] = dfCSV['name'].astype(str)\n",
    "for index, row in dfCSV.iterrows():\n",
    "    df.loc[df['number'] == str(row['number']), 'person'] = row['name']"
   ]
  },
  {
   "cell_type": "code",
   "execution_count": 4,
   "metadata": {},
   "outputs": [],
   "source": [
    "#identifying sender\n",
    "df['type'] = df['type'].astype(int)\n",
    "\n",
    "df['direction'] = np.nan\n",
    "df.loc[df['type']== 2, 'direction'] = 'sent'\n",
    "df.loc[df['type']== 1, 'direction'] = 'received'\n",
    "\n",
    "df['timestamp_ms'] = df['timestamp_ms'].astype(int)\n",
    "df['date'] = df['timestamp_ms']/1000\n",
    "df['date'] = df['date'].astype(int)\n",
    "df['date'] = pd.to_datetime(df['date'], unit='s') "
   ]
  },
  {
   "cell_type": "markdown",
   "metadata": {},
   "source": [
    "## output to csv"
   ]
  },
  {
   "cell_type": "code",
   "execution_count": 5,
   "metadata": {},
   "outputs": [],
   "source": [
    "dfSMS = df[['person', 'timestamp_ms','content','date']].copy()\n",
    "dfSMS['category'] = df['direction'] + ' ' + 'sms'\n",
    "dfSMS.to_csv('sms.csv')"
   ]
  },
  {
   "cell_type": "markdown",
   "metadata": {},
   "source": [
    "## plotting all sms"
   ]
  },
  {
   "cell_type": "code",
   "execution_count": 6,
   "metadata": {},
   "outputs": [
    {
     "data": {
      "image/png": "[encoded data removed]",
      "text/plain": [
       "<Figure size 432x288 with 1 Axes>"
      ]
     },
     "metadata": {
      "needs_background": "light"
     },
     "output_type": "display_data"
    }
   ],
   "source": [
    "sentCombined = list(df[df['direction'] == 'sent']['date'])\n",
    "receivedCombined = list(df[df['direction'] == 'received']['date'])\n",
    "\n",
    "fig, ax = plt.subplots()\n",
    "ax.hist([sentCombined, receivedCombined], label=['sent','received'], bins = 50, stacked=True, color=['#a6cee3','#1f78b4'])\n",
    "fig.autofmt_xdate()\n",
    "ax.legend()\n",
    "plt.show()"
   ]
  },
  {
   "cell_type": "markdown",
   "metadata": {},
   "source": [
    "## plot individual"
   ]
  },
  {
   "cell_type": "code",
   "execution_count": 19,
   "metadata": {},
   "outputs": [
    {
     "data": {
      "image/png": "[encoded data removed]",
      "text/plain": [
       "<Figure size 432x288 with 1 Axes>"
      ]
     },
     "metadata": {
      "needs_background": "light"
     },
     "output_type": "display_data"
    }
   ],
   "source": [
    "person = 'Adam Wright' #name here\n",
    "dfPerson = df.loc[df['person'] == person]\n",
    "\n",
    "dfPerson = df.loc[df['person'] == person].copy()\n",
    "sent = list(dfPerson[dfPerson['direction'] == 'sent']['date'])\n",
    "received = list(dfPerson[dfPerson['direction'] == 'received']['date'])\n",
    "\n",
    "fig, ax = plt.subplots()\n",
    "ax.hist([sent, received], label=['sent','received'], bins = 50, stacked=True, color=['#a6cee3','#1f78b4'])\n",
    "fig.autofmt_xdate()\n",
    "ax.legend()\n",
    "plt.show()"
   ]
  },
  {
   "cell_type": "markdown",
   "metadata": {},
   "source": [
    "## tree map"
   ]
  },
  {
   "cell_type": "code",
   "execution_count": 8,
   "metadata": {},
   "outputs": [],
   "source": [
    "totalMessages = {}\n",
    "people = []\n",
    "messages = []\n",
    "\n",
    "for person in df['person'].unique():\n",
    "    dfTemp = df.loc[df['person'] == person]\n",
    "    totalMessages[person] = dfTemp.shape[0]\n",
    "    people.append(person)\n",
    "    messages.append(dfTemp.shape[0])\n",
    "    \n",
    "messages, people = zip(*sorted(zip(messages, people)))"
   ]
  },
  {
   "cell_type": "code",
   "execution_count": 11,
   "metadata": {},
   "outputs": [
    {
     "data": {
      "image/png": "[encoded data removed]",
      "text/plain": [
       "<Figure size 432x288 with 1 Axes>"
      ]
     },
     "metadata": {
      "needs_background": "light"
     },
     "output_type": "display_data"
    }
   ],
   "source": [
    "import squarify\n",
    "squarify.plot(sizes=messages[-10:], \n",
    "              #label=people[-10:], \n",
    "              alpha=.7 )\n",
    "plt.axis('off')\n",
    "plt.show()"
   ]
  }
 ],
 "metadata": {
  "kernelspec": {
   "display_name": "Python 3",
   "language": "python",
   "name": "python3"
  },
  "language_info": {
   "codemirror_mode": {
    "name": "ipython",
    "version": 3
   },
   "file_extension": ".py",
   "mimetype": "text/x-python",
   "name": "python",
   "nbconvert_exporter": "python",
   "pygments_lexer": "ipython3",
   "version": "3.7.2"
  },
  "latex_envs": {
   "LaTeX_envs_menu_present": true,
   "autocomplete": true,
   "bibliofile": "biblio.bib",
   "cite_by": "apalike",
   "current_citInitial": 1,
   "eqLabelWithNumbers": true,
   "eqNumInitial": 1,
   "hotkeys": {
    "equation": "Ctrl-E",
    "itemize": "Ctrl-I"
   },
   "labels_anchors": false,
   "latex_user_defs": false,
   "report_style_numbering": false,
   "user_envs_cfg": false
  }
 },
 "nbformat": 4,
 "nbformat_minor": 2
}
