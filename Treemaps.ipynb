{
 "cells": [
  {
   "cell_type": "code",
   "execution_count": 16,
   "metadata": {},
   "outputs": [],
   "source": [
    "import pandas as pd\n",
    "import xml.etree.ElementTree as ET\n",
    "import numpy as np\n",
    "import matplotlib.pyplot as plt\n",
    "import matplotlib.cbook as cbook\n",
    "import matplotlib.dates as mdates\n",
    "import matplotlib.patches as mpatches\n",
    "import squarify"
   ]
  },
  {
   "cell_type": "code",
   "execution_count": 37,
   "metadata": {},
   "outputs": [],
   "source": [
    "dfFB = pd.read_csv('fb.csv',index_col=False)\n",
    "dfSMS = pd.read_csv('sms.csv',index_col=False)\n",
    "dfCombined = dfFB.append(dfSMS)"
   ]
  },
  {
   "cell_type": "code",
   "execution_count": 46,
   "metadata": {},
   "outputs": [],
   "source": [
    "totalMessages = {}\n",
    "people = []\n",
    "messages = []\n",
    "\n",
    "for person in dfCombined['person'].unique():\n",
    "    dfTemp = dfCombined.loc[dfCombined['person'] == person]\n",
    "    totalMessages[person] = dfTemp.shape[0]\n",
    "    people.append(person)\n",
    "    messages.append(dfTemp.shape[0])\n",
    "    \n",
    "messages, people = zip(*sorted(zip(messages, people)))"
   ]
  },
  {
   "cell_type": "code",
   "execution_count": 60,
   "metadata": {},
   "outputs": [
    {
     "data": {
      "image/png": "[encoded data removed]",
      "text/plain": [
       "<Figure size 432x288 with 1 Axes>"
      ]
     },
     "metadata": {
      "needs_background": "light"
     },
     "output_type": "display_data"
    }
   ],
   "source": [
    "squarify.plot(sizes=messages[-10:], \n",
    "              #label=people[-10:], \n",
    "              alpha=.7 )\n",
    "plt.axis('off')\n",
    "plt.show()"
   ]
  },
  {
   "cell_type": "markdown",
   "metadata": {},
   "source": [
    "## tree map of certain time"
   ]
  },
  {
   "cell_type": "code",
   "execution_count": 66,
   "metadata": {},
   "outputs": [
    {
     "data": {
      "image/png": "[encoded data removed]",
      "text/plain": [
       "<Figure size 432x288 with 1 Axes>"
      ]
     },
     "metadata": {
      "needs_background": "light"
     },
     "output_type": "display_data"
    }
   ],
   "source": [
    "totalCollegeMessages = {}\n",
    "Collegepeople = []\n",
    "Collegemessages = []\n",
    "\n",
    "dfCollege = dfCombined.loc[dfCombined['timestamp_ms'] > 1408518000000]\n",
    "\n",
    "for person in dfCollege['person'].unique():\n",
    "    dfTemp = dfCollege.loc[dfCollege['person'] == person]\n",
    "    totalCollegeMessages[person] = dfTemp.shape[0]\n",
    "    Collegepeople.append(person)\n",
    "    Collegemessages.append(dfTemp.shape[0])\n",
    "    \n",
    "messages, people = zip(*sorted(zip(messages, people)))\n",
    "\n",
    "squarify.plot(sizes=messages[-10:], \n",
    "              #label=people[-10:], \n",
    "              alpha=.7 )\n",
    "plt.axis('off')\n",
    "plt.show()"
   ]
  },
  {
   "cell_type": "code",
   "execution_count": null,
   "metadata": {},
   "outputs": [],
   "source": []
  }
 ],
 "metadata": {
  "kernelspec": {
   "display_name": "Python 3",
   "language": "python",
   "name": "python3"
  },
  "language_info": {
   "codemirror_mode": {
    "name": "ipython",
    "version": 3
   },
   "file_extension": ".py",
   "mimetype": "text/x-python",
   "name": "python",
   "nbconvert_exporter": "python",
   "pygments_lexer": "ipython3",
   "version": "3.7.2"
  },
  "latex_envs": {
   "LaTeX_envs_menu_present": true,
   "autocomplete": true,
   "bibliofile": "biblio.bib",
   "cite_by": "apalike",
   "current_citInitial": 1,
   "eqLabelWithNumbers": true,
   "eqNumInitial": 1,
   "hotkeys": {
    "equation": "Ctrl-E",
    "itemize": "Ctrl-I"
   },
   "labels_anchors": false,
   "latex_user_defs": false,
   "report_style_numbering": false,
   "user_envs_cfg": false
  }
 },
 "nbformat": 4,
 "nbformat_minor": 2
}
